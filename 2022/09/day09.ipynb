{
 "cells": [
  {
   "cell_type": "code",
   "execution_count": 1,
   "id": "d90e48fe-2cad-4278-9254-e57f9448e49f",
   "metadata": {},
   "outputs": [],
   "source": [
    "from pathlib import Path"
   ]
  },
  {
   "cell_type": "code",
   "execution_count": 83,
   "id": "f27d97cd-021a-4165-8557-f01f555cb14e",
   "metadata": {},
   "outputs": [],
   "source": [
    "t = Path('day09.txt').read_text().splitlines()"
   ]
  },
  {
   "cell_type": "code",
   "execution_count": 62,
   "id": "e07b511c-c6ab-49b9-82c3-4f1dcbba3d4a",
   "metadata": {},
   "outputs": [],
   "source": [
    "t = \"\"\"R 4\n",
    "U 4\n",
    "L 3\n",
    "D 1\n",
    "R 4\n",
    "D 1\n",
    "L 5\n",
    "R 2\"\"\".splitlines()"
   ]
  },
  {
   "cell_type": "code",
   "execution_count": 43,
   "id": "87e3ec99-55d7-44e1-a316-9d67990790d6",
   "metadata": {},
   "outputs": [],
   "source": [
    "DIRECTION_MAP = {'R': (1, 0),\n",
    "      'L': (-1, 0),\n",
    "      'U': (0, 1),\n",
    "      'D': (0, -1),\n",
    "     }\n",
    "\n",
    "\n",
    "def serve_moves():\n",
    "    for t2 in t:\n",
    "        direction, cnt = t2.split(' ')\n",
    "        cnt = int(cnt)\n",
    "        for _ in range(cnt):\n",
    "            yield(DIRECTION_MAP[direction])\n",
    "        \n",
    "        \n",
    "        "
   ]
  },
  {
   "cell_type": "code",
   "execution_count": 44,
   "id": "5ef9c313-17ef-41e5-bfd9-7fc44893c9e5",
   "metadata": {
    "collapsed": true,
    "jupyter": {
     "outputs_hidden": true
    },
    "tags": []
   },
   "outputs": [
    {
     "data": {
      "text/plain": [
       "[(1, 0),\n",
       " (1, 0),\n",
       " (1, 0),\n",
       " (1, 0),\n",
       " (0, 1),\n",
       " (0, 1),\n",
       " (0, 1),\n",
       " (0, 1),\n",
       " (-1, 0),\n",
       " (-1, 0),\n",
       " (-1, 0),\n",
       " (0, -1),\n",
       " (1, 0),\n",
       " (1, 0),\n",
       " (1, 0),\n",
       " (1, 0),\n",
       " (0, -1),\n",
       " (-1, 0),\n",
       " (-1, 0),\n",
       " (-1, 0),\n",
       " (-1, 0),\n",
       " (-1, 0),\n",
       " (1, 0),\n",
       " (1, 0)]"
      ]
     },
     "execution_count": 44,
     "metadata": {},
     "output_type": "execute_result"
    }
   ],
   "source": [
    "list(serve_moves())"
   ]
  },
  {
   "cell_type": "code",
   "execution_count": 45,
   "id": "6a944957-99e5-4e36-8b59-a4d8d7e9de5e",
   "metadata": {},
   "outputs": [],
   "source": [
    "def tail_is_touching(hp, tp):\n",
    "    return (abs(hp[0] - tp[0]) <= 1) and (abs(hp[1] - tp[1]) <= 1) \n"
   ]
  },
  {
   "cell_type": "code",
   "execution_count": 46,
   "id": "105c65f9-7793-44e9-b01d-fa28516e4a30",
   "metadata": {},
   "outputs": [],
   "source": [
    "def new_tail(hp, tp):\n",
    "    if tail_is_touching(hp, tp):\n",
    "        return tp\n",
    "    \n",
    "    if hp[0] > tp[0]:\n",
    "        tp[0] += 1\n",
    "    elif hp[0] < tp[0]:   \n",
    "        tp[0] -= 1\n",
    "    else:\n",
    "        pass\n",
    "    \n",
    "    if hp[1] > tp[1]:\n",
    "        tp[1] += 1\n",
    "    elif hp[1] < tp[1]:   \n",
    "        tp[1] -= 1\n",
    "    else:\n",
    "        pass\n",
    "    \n",
    "    return tp\n",
    "    "
   ]
  },
  {
   "cell_type": "code",
   "execution_count": 60,
   "id": "a6fece07-00c3-453b-9d98-894327302852",
   "metadata": {},
   "outputs": [],
   "source": [
    "hp = [0, 0]\n",
    "tp = [0, 0]\n",
    "tps = [tuple(new_tail(hp, tp))]\n",
    "for x, y in serve_moves():\n",
    "    hp = [hp[0] + x, hp[1] + y] \n",
    "    tp = new_tail(hp, tp)\n",
    "    tps.append(tuple(tp))\n",
    "    "
   ]
  },
  {
   "cell_type": "code",
   "execution_count": 61,
   "id": "7dfd27f3-0cf0-433e-bc23-3ad5dc57ae3f",
   "metadata": {},
   "outputs": [
    {
     "data": {
      "text/plain": [
       "5858"
      ]
     },
     "execution_count": 61,
     "metadata": {},
     "output_type": "execute_result"
    }
   ],
   "source": [
    "len(set(tps))"
   ]
  },
  {
   "cell_type": "code",
   "execution_count": 55,
   "id": "a2cbc476-d586-4dbb-8eb9-99d9008ce01f",
   "metadata": {},
   "outputs": [],
   "source": [
    "# part 2"
   ]
  },
  {
   "cell_type": "code",
   "execution_count": 84,
   "id": "5a84d03d-911d-4351-840e-3c0ef86c00c6",
   "metadata": {},
   "outputs": [],
   "source": [
    "\n",
    "rope = [[0, 0], [0, 0],[0, 0],[0, 0],[0, 0],[0, 0],[0, 0],[0, 0],[0, 0],[0, 0]]\n",
    "tps = [tuple(rope[9])]\n"
   ]
  },
  {
   "cell_type": "code",
   "execution_count": 85,
   "id": "b9f7527c-606e-45d5-b0db-cbd26f503a51",
   "metadata": {},
   "outputs": [],
   "source": [
    "for x, y in serve_moves():\n",
    "    # print(x, y)\n",
    "    hp = rope[0]\n",
    "    hp = [hp[0] + x, hp[1] + y] \n",
    "    rope[0] = hp\n",
    "    for step in range(1, 10):\n",
    "        rope[step] = new_tail(rope[step-1], rope[step])\n",
    "    tps.append(tuple(rope[9]))"
   ]
  },
  {
   "cell_type": "code",
   "execution_count": 86,
   "id": "ede971ef-f427-4edf-9197-acbd3a9a18bd",
   "metadata": {},
   "outputs": [
    {
     "data": {
      "text/plain": [
       "2602"
      ]
     },
     "execution_count": 86,
     "metadata": {},
     "output_type": "execute_result"
    }
   ],
   "source": [
    "len(set(tps))"
   ]
  },
  {
   "cell_type": "code",
   "execution_count": 77,
   "id": "46fca5c4-3b36-4e4d-8bc8-d5638cb4c90d",
   "metadata": {},
   "outputs": [
    {
     "data": {
      "text/plain": [
       "[[2, 2],\n",
       " [1, 2],\n",
       " [2, 2],\n",
       " [3, 2],\n",
       " [2, 2],\n",
       " [1, 1],\n",
       " [0, 0],\n",
       " [0, 0],\n",
       " [0, 0],\n",
       " [0, 0]]"
      ]
     },
     "execution_count": 77,
     "metadata": {},
     "output_type": "execute_result"
    }
   ],
   "source": [
    "rope"
   ]
  },
  {
   "cell_type": "code",
   "execution_count": 78,
   "id": "ee76e622-be5f-46a1-a5b1-135f5c581aec",
   "metadata": {},
   "outputs": [],
   "source": [
    "t = \"\"\"R 5\n",
    "U 8\n",
    "L 8\n",
    "D 3\n",
    "R 17\n",
    "D 10\n",
    "L 25\n",
    "U 20\"\"\".splitlines()"
   ]
  },
  {
   "cell_type": "code",
   "execution_count": null,
   "id": "ef969ce3-1f44-4c0e-b868-0e5160c2e4ed",
   "metadata": {},
   "outputs": [],
   "source": []
  }
 ],
 "metadata": {
  "kernelspec": {
   "display_name": "Python 3",
   "language": "python",
   "name": "python3"
  },
  "language_info": {
   "codemirror_mode": {
    "name": "ipython",
    "version": 3
   },
   "file_extension": ".py",
   "mimetype": "text/x-python",
   "name": "python",
   "nbconvert_exporter": "python",
   "pygments_lexer": "ipython3",
   "version": "3.9.9"
  }
 },
 "nbformat": 4,
 "nbformat_minor": 5
}
