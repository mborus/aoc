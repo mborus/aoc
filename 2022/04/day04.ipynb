{
 "cells": [
  {
   "cell_type": "code",
   "execution_count": 1,
   "id": "85201408-7096-4ff0-a0f2-297310f24817",
   "metadata": {},
   "outputs": [],
   "source": [
    "from pathlib import Path"
   ]
  },
  {
   "cell_type": "code",
   "execution_count": 22,
   "id": "a3fcfcb8-b49a-47f2-a8c1-158aec932e22",
   "metadata": {},
   "outputs": [],
   "source": [
    "t = Path('day04.txt').read_text().split()"
   ]
  },
  {
   "cell_type": "code",
   "execution_count": 3,
   "id": "77032fad-7af5-4f01-8b06-5d106a1c3893",
   "metadata": {},
   "outputs": [
    {
     "data": {
      "text/plain": [
       "['xxx']"
      ]
     },
     "execution_count": 3,
     "metadata": {},
     "output_type": "execute_result"
    }
   ],
   "source": [
    "t"
   ]
  },
  {
   "cell_type": "code",
   "execution_count": 20,
   "id": "e4d60ac8-9bbe-4732-b0d7-4b5440af17f3",
   "metadata": {},
   "outputs": [],
   "source": [
    "t = \"\"\"2-4,6-8\n",
    "2-3,4-5\n",
    "5-7,7-9\n",
    "2-8,3-7\n",
    "6-6,4-6\n",
    "2-6,4-8\"\"\".splitlines()"
   ]
  },
  {
   "cell_type": "code",
   "execution_count": 5,
   "id": "552ef117-c615-47f2-affd-e3f27ef4d54e",
   "metadata": {},
   "outputs": [],
   "source": [
    "def assign_seats(l):\n",
    "    l1, l2 = l.split(',')\n",
    "    l11, l12 = [int(t2) for t2 in l1.split('-')]\n",
    "    l21, l22 = [int(t2) for t2 in l2.split('-')]\n",
    "    \n",
    "    area1 = list(range(l11, l12+1))\n",
    "    area2 = list(range(l21, l22+1))\n",
    "    return area1, area2"
   ]
  },
  {
   "cell_type": "code",
   "execution_count": 6,
   "id": "65ee9e17-15ae-46ad-b799-4ee8cab401eb",
   "metadata": {},
   "outputs": [
    {
     "data": {
      "text/plain": [
       "([2, 3, 4], [6, 7, 8])"
      ]
     },
     "execution_count": 6,
     "metadata": {},
     "output_type": "execute_result"
    }
   ],
   "source": [
    "assign_seats(t[0])"
   ]
  },
  {
   "cell_type": "code",
   "execution_count": 9,
   "id": "57461651-d2c4-4764-8b85-4d391a0c3b5c",
   "metadata": {},
   "outputs": [],
   "source": [
    "def fully_contains(a1, a2):\n",
    "    if set(a1) - set(a2) == set():\n",
    "        return True\n",
    "    if set(a2) - set(a1) == set():\n",
    "        return True\n",
    "    return False\n",
    "    \n",
    "    "
   ]
  },
  {
   "cell_type": "code",
   "execution_count": 18,
   "id": "6965f0d0-0a4d-4a42-984b-529cc0bb057a",
   "metadata": {},
   "outputs": [
    {
     "data": {
      "text/plain": [
       "487"
      ]
     },
     "execution_count": 18,
     "metadata": {},
     "output_type": "execute_result"
    }
   ],
   "source": [
    "sum([fully_contains(*assign_seats(t2)) for t2 in t])"
   ]
  },
  {
   "cell_type": "code",
   "execution_count": 19,
   "id": "8e9a32b1-a7e1-4f00-8fa4-8a236acd9f5c",
   "metadata": {},
   "outputs": [],
   "source": [
    "def intersects(a1, a2):\n",
    "    if set(a1).intersection(set(a2)) == set():\n",
    "        return False\n",
    "    return True"
   ]
  },
  {
   "cell_type": "code",
   "execution_count": 23,
   "id": "bca51160-dcac-4e99-9bcd-9e5f70f80d6d",
   "metadata": {},
   "outputs": [
    {
     "data": {
      "text/plain": [
       "849"
      ]
     },
     "execution_count": 23,
     "metadata": {},
     "output_type": "execute_result"
    }
   ],
   "source": [
    "sum([intersects(*assign_seats(t2)) for t2 in t])"
   ]
  },
  {
   "cell_type": "code",
   "execution_count": null,
   "id": "9ae4268b-ae28-49fe-ad75-f0be218f9428",
   "metadata": {},
   "outputs": [],
   "source": []
  }
 ],
 "metadata": {
  "kernelspec": {
   "display_name": "Python 3 (ipykernel)",
   "language": "python",
   "name": "python3"
  },
  "language_info": {
   "codemirror_mode": {
    "name": "ipython",
    "version": 3
   },
   "file_extension": ".py",
   "mimetype": "text/x-python",
   "name": "python",
   "nbconvert_exporter": "python",
   "pygments_lexer": "ipython3",
   "version": "3.9.9"
  }
 },
 "nbformat": 4,
 "nbformat_minor": 5
}
