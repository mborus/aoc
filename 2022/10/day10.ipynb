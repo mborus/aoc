{
 "cells": [
  {
   "cell_type": "code",
   "execution_count": 1,
   "id": "3ce8b396-f9e9-436a-bce1-4b9ea0f5f409",
   "metadata": {},
   "outputs": [],
   "source": [
    "from pathlib import Path"
   ]
  },
  {
   "cell_type": "code",
   "execution_count": 54,
   "id": "f36cbd12-7749-4d1b-acf5-50ca7c920a04",
   "metadata": {},
   "outputs": [],
   "source": [
    "t = Path('day10.txt').read_text().splitlines()"
   ]
  },
  {
   "cell_type": "code",
   "execution_count": 37,
   "id": "c09012a7-f4f7-4855-8580-9a5ecbd46b93",
   "metadata": {},
   "outputs": [],
   "source": [
    "t = \"\"\"noop\n",
    "addx 3\n",
    "addx -5\"\"\".splitlines()"
   ]
  },
  {
   "cell_type": "code",
   "execution_count": 3,
   "id": "44096362-aff0-4f70-9fe4-1d57e0f0a221",
   "metadata": {},
   "outputs": [],
   "source": [
    "tt = \"\"\"addx 15\n",
    "addx -11\n",
    "addx 6\n",
    "addx -3\n",
    "addx 5\n",
    "addx -1\n",
    "addx -8\n",
    "addx 13\n",
    "addx 4\n",
    "noop\n",
    "addx -1\n",
    "addx 5\n",
    "addx -1\n",
    "addx 5\n",
    "addx -1\n",
    "addx 5\n",
    "addx -1\n",
    "addx 5\n",
    "addx -1\n",
    "addx -35\n",
    "addx 1\n",
    "addx 24\n",
    "addx -19\n",
    "addx 1\n",
    "addx 16\n",
    "addx -11\n",
    "noop\n",
    "noop\n",
    "addx 21\n",
    "addx -15\n",
    "noop\n",
    "noop\n",
    "addx -3\n",
    "addx 9\n",
    "addx 1\n",
    "addx -3\n",
    "addx 8\n",
    "addx 1\n",
    "addx 5\n",
    "noop\n",
    "noop\n",
    "noop\n",
    "noop\n",
    "noop\n",
    "addx -36\n",
    "noop\n",
    "addx 1\n",
    "addx 7\n",
    "noop\n",
    "noop\n",
    "noop\n",
    "addx 2\n",
    "addx 6\n",
    "noop\n",
    "noop\n",
    "noop\n",
    "noop\n",
    "noop\n",
    "addx 1\n",
    "noop\n",
    "noop\n",
    "addx 7\n",
    "addx 1\n",
    "noop\n",
    "addx -13\n",
    "addx 13\n",
    "addx 7\n",
    "noop\n",
    "addx 1\n",
    "addx -33\n",
    "noop\n",
    "noop\n",
    "noop\n",
    "addx 2\n",
    "noop\n",
    "noop\n",
    "noop\n",
    "addx 8\n",
    "noop\n",
    "addx -1\n",
    "addx 2\n",
    "addx 1\n",
    "noop\n",
    "addx 17\n",
    "addx -9\n",
    "addx 1\n",
    "addx 1\n",
    "addx -3\n",
    "addx 11\n",
    "noop\n",
    "noop\n",
    "addx 1\n",
    "noop\n",
    "addx 1\n",
    "noop\n",
    "noop\n",
    "addx -13\n",
    "addx -19\n",
    "addx 1\n",
    "addx 3\n",
    "addx 26\n",
    "addx -30\n",
    "addx 12\n",
    "addx -1\n",
    "addx 3\n",
    "addx 1\n",
    "noop\n",
    "noop\n",
    "noop\n",
    "addx -9\n",
    "addx 18\n",
    "addx 1\n",
    "addx 2\n",
    "noop\n",
    "noop\n",
    "addx 9\n",
    "noop\n",
    "noop\n",
    "noop\n",
    "addx -1\n",
    "addx 2\n",
    "addx -37\n",
    "addx 1\n",
    "addx 3\n",
    "noop\n",
    "addx 15\n",
    "addx -21\n",
    "addx 22\n",
    "addx -6\n",
    "addx 1\n",
    "noop\n",
    "addx 2\n",
    "addx 1\n",
    "noop\n",
    "addx -10\n",
    "noop\n",
    "noop\n",
    "addx 20\n",
    "addx 1\n",
    "addx 2\n",
    "addx 2\n",
    "addx -6\n",
    "addx -11\n",
    "noop\n",
    "noop\n",
    "noop\"\"\".splitlines()"
   ]
  },
  {
   "cell_type": "code",
   "execution_count": 4,
   "id": "0df9808b-74dd-4d4c-8ec7-91b96c729081",
   "metadata": {},
   "outputs": [],
   "source": [
    "def serve(t):\n",
    "    for t2 in t:\n",
    "        cmd, _, val = t2.partition(' ')\n",
    "        \n",
    "        if cmd == \"noop\":\n",
    "            yield 1, 0\n",
    "        elif cmd == 'addx':\n",
    "            yield 1, 0            \n",
    "            yield 1, int(val)\n",
    "        else:\n",
    "            raise RuntimeError(cmd)"
   ]
  },
  {
   "cell_type": "code",
   "execution_count": 43,
   "id": "57febf4e-bc90-4114-9828-e3526eccccda",
   "metadata": {},
   "outputs": [],
   "source": [
    "def part1(t):\n",
    "    sums = []\n",
    "    reg_x = 1\n",
    "    cycles = 1\n",
    "    for cy, addx in serve(t):\n",
    "        cycles += cy\n",
    "        reg_x += addx\n",
    "        if cycles in  [20, 60, 100, 140, 180, 220]:\n",
    "            print(cycles, reg_x, reg_x * (cycles))\n",
    "            sums.append(reg_x * cycles)\n",
    "    \n",
    "    return cycles, reg_x, sum(sums)"
   ]
  },
  {
   "cell_type": "code",
   "execution_count": 44,
   "id": "2732cfec-2eea-4421-a953-a3949fad692b",
   "metadata": {},
   "outputs": [
    {
     "name": "stdout",
     "output_type": "stream",
     "text": [
      "20 21 420\n",
      "60 19 1140\n",
      "100 18 1800\n",
      "140 21 2940\n",
      "180 16 2880\n",
      "220 18 3960\n"
     ]
    },
    {
     "data": {
      "text/plain": [
       "(241, 17, 13140)"
      ]
     },
     "execution_count": 44,
     "metadata": {},
     "output_type": "execute_result"
    }
   ],
   "source": [
    "part1(tt)"
   ]
  },
  {
   "cell_type": "code",
   "execution_count": 45,
   "id": "dad65791-fb42-44fa-a11e-2453999db778",
   "metadata": {},
   "outputs": [
    {
     "name": "stdout",
     "output_type": "stream",
     "text": [
      "20 21 420\n",
      "60 17 1020\n",
      "100 4 400\n",
      "140 21 2940\n",
      "180 21 3780\n",
      "220 21 4620\n"
     ]
    },
    {
     "data": {
      "text/plain": [
       "(241, 36, 13180)"
      ]
     },
     "execution_count": 45,
     "metadata": {},
     "output_type": "execute_result"
    }
   ],
   "source": [
    "# tried 4620 low (forgot sums)\n",
    "part1(t)"
   ]
  },
  {
   "cell_type": "code",
   "execution_count": 46,
   "id": "3d30bb2b-df04-45de-a689-954e5c86e2c9",
   "metadata": {
    "tags": []
   },
   "outputs": [],
   "source": [
    "# part 2\n"
   ]
  },
  {
   "cell_type": "code",
   "execution_count": 35,
   "id": "8db75d99-ab75-41bb-8f46-0a697c5b815d",
   "metadata": {},
   "outputs": [],
   "source": [
    "def print_display(display, first=False):\n",
    "    for i, c in enumerate(display):\n",
    "        if c == 1:\n",
    "            print('#', end='')\n",
    "        elif c == -1:\n",
    "            print(' ', end='')\n",
    "        else:    \n",
    "            print('.', end='')\n",
    "        if (i + 1) % 40 == 0:\n",
    "            print()\n",
    "            if first:\n",
    "                return"
   ]
  },
  {
   "cell_type": "code",
   "execution_count": 49,
   "id": "278ed2f1-411b-44d2-b76b-c232efc0b39c",
   "metadata": {},
   "outputs": [],
   "source": [
    "def part2(t, verbose=False):\n",
    "    \n",
    "    display = [-1 for _ in range(240)]\n",
    "    sums = []\n",
    "    reg_x = 1\n",
    "    cycles = 1\n",
    "    \n",
    "    for d, (cy, addx) in enumerate(serve(t), start=0):\n",
    "        \n",
    "        line_pos = d % 40\n",
    "        draw_pixel = abs(reg_x - line_pos) < 2\n",
    "        if draw_pixel: \n",
    "            display[d] = 1\n",
    "        else:            \n",
    "            display[d] = 0\n",
    "        \n",
    "        if verbose:\n",
    "            print(f\"{cycles=}, {line_pos=}, {reg_x=}, {draw_pixel=}, {addx=}\")    \n",
    "            print_display(display, first=True)\n",
    "           \n",
    "            \n",
    "        cycles += cy\n",
    "        reg_x += addx\n",
    "     \n",
    "    return display, cycles, reg_x, sum(sums)"
   ]
  },
  {
   "cell_type": "code",
   "execution_count": 50,
   "id": "9781425b-eab8-4fd6-a500-420f5df7afde",
   "metadata": {},
   "outputs": [],
   "source": [
    "display, _ , _, _ = part2(tt)"
   ]
  },
  {
   "cell_type": "code",
   "execution_count": 53,
   "id": "6b9fc2a8-3639-44c7-9f94-39391e7dda07",
   "metadata": {},
   "outputs": [
    {
     "name": "stdout",
     "output_type": "stream",
     "text": [
      "##..##..##..##..##..##..##..##..##..##..\n",
      "###...###...###...###...###...###...###.\n",
      "####....####....####....####....####....\n",
      "#####.....#####.....#####.....#####.....\n",
      "######......######......######......####\n",
      "#######.......#######.......#######.....\n"
     ]
    }
   ],
   "source": [
    "print_display(display)"
   ]
  },
  {
   "cell_type": "code",
   "execution_count": null,
   "id": "adef7b53-f4fc-4e63-823b-49190ed9934a",
   "metadata": {},
   "outputs": [],
   "source": [
    "##..##..##..##..##..##..##..##..##..##..\n",
    "###...###...###...###...###...###...###.\n",
    "####....####....####....####....####....\n",
    "#####.....#####.....#####.....#####.....\n",
    "######......######......######......####\n",
    "#######.......#######.......#######....."
   ]
  },
  {
   "cell_type": "code",
   "execution_count": 55,
   "id": "293af321-c587-48a3-943f-feaca6fd5191",
   "metadata": {},
   "outputs": [],
   "source": [
    "display, _ , _, _ = part2(t)"
   ]
  },
  {
   "cell_type": "code",
   "execution_count": 56,
   "id": "a984a77d-0e9d-4c3b-b482-b2c00d58e3d7",
   "metadata": {},
   "outputs": [
    {
     "name": "stdout",
     "output_type": "stream",
     "text": [
      "####.####.####..##..#..#...##..##..###..\n",
      "#.......#.#....#..#.#..#....#.#..#.#..#.\n",
      "###....#..###..#....####....#.#..#.###..\n",
      "#.....#...#....#....#..#....#.####.#..#.\n",
      "#....#....#....#..#.#..#.#..#.#..#.#..#.\n",
      "####.####.#.....##..#..#..##..#..#.###..\n"
     ]
    }
   ],
   "source": [
    "print_display(display)"
   ]
  },
  {
   "cell_type": "code",
   "execution_count": null,
   "id": "32463054-b729-4673-b692-835055be2f61",
   "metadata": {},
   "outputs": [],
   "source": []
  }
 ],
 "metadata": {
  "kernelspec": {
   "display_name": "Python 3 (ipykernel)",
   "language": "python",
   "name": "python3"
  },
  "language_info": {
   "codemirror_mode": {
    "name": "ipython",
    "version": 3
   },
   "file_extension": ".py",
   "mimetype": "text/x-python",
   "name": "python",
   "nbconvert_exporter": "python",
   "pygments_lexer": "ipython3",
   "version": "3.11.1"
  }
 },
 "nbformat": 4,
 "nbformat_minor": 5
}
