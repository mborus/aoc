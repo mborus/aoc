{
 "cells": [
  {
   "cell_type": "code",
   "execution_count": 1,
   "id": "3a5baee7-6faf-404f-9206-00a8e2ae6289",
   "metadata": {},
   "outputs": [],
   "source": [
    "from pathlib import Path\n",
    "from collections import defaultdict"
   ]
  },
  {
   "cell_type": "code",
   "execution_count": 55,
   "id": "5c6cf59c-3cca-4c57-9d76-af8f5acce107",
   "metadata": {},
   "outputs": [],
   "source": [
    "t = Path('day07.txt').read_text().splitlines()"
   ]
  },
  {
   "cell_type": "code",
   "execution_count": 59,
   "id": "b80bc8ab-c800-40e9-8b9a-81fd43b4b059",
   "metadata": {},
   "outputs": [],
   "source": [
    "t = \"\"\"$ cd /\n",
    "$ ls\n",
    "dir a\n",
    "14848514 b.txt\n",
    "8504156 c.dat\n",
    "dir d\n",
    "$ cd a\n",
    "$ ls\n",
    "dir e\n",
    "29116 f\n",
    "2557 g\n",
    "62596 h.lst\n",
    "$ cd e\n",
    "$ ls\n",
    "584 i\n",
    "$ cd ..\n",
    "$ cd ..\n",
    "$ cd d\n",
    "$ ls\n",
    "4060174 j\n",
    "8033020 d.log\n",
    "5626152 d.ext\n",
    "7214296 k\"\"\".splitlines()"
   ]
  },
  {
   "cell_type": "code",
   "execution_count": 3,
   "id": "60fb5c6a-7ee6-4472-88d5-f7e9066e9cbf",
   "metadata": {},
   "outputs": [],
   "source": [
    "def serve(x):\n",
    "    c = None\n",
    "    r = []\n",
    "    for line in x:\n",
    "        if line.startswith('$'):\n",
    "            if c is not None:\n",
    "                yield c, r\n",
    "            c = line[2:]\n",
    "            r = []\n",
    "        else:\n",
    "            r.append(line)\n",
    "    else: \n",
    "        yield c, r            \n",
    "        \n",
    "        \n",
    "        \n",
    "        "
   ]
  },
  {
   "cell_type": "code",
   "execution_count": 4,
   "id": "1760375c-6d20-421d-b1ad-2961eb5d3620",
   "metadata": {},
   "outputs": [
    {
     "data": {
      "text/plain": [
       "[('ls', ['dir a', '14848514 b.txt', '8504156 c.dat', 'dir d']),\n",
       " ('cd a', []),\n",
       " ('ls', ['dir e', '29116 f', '2557 g', '62596 h.lst']),\n",
       " ('cd e', []),\n",
       " ('ls', ['584 i']),\n",
       " ('cd ..', []),\n",
       " ('cd ..', []),\n",
       " ('cd d', []),\n",
       " ('ls', ['4060174 j', '8033020 d.log', '5626152 d.ext', '7214296 k'])]"
      ]
     },
     "execution_count": 4,
     "metadata": {},
     "output_type": "execute_result"
    }
   ],
   "source": [
    "list(serve(t[1:]))"
   ]
  },
  {
   "cell_type": "code",
   "execution_count": 61,
   "id": "99947f9f-76a9-42fb-88b4-f5ff734a6e32",
   "metadata": {
    "tags": []
   },
   "outputs": [],
   "source": [
    "# create filesystem\n",
    "dir_cnt = 1\n",
    "fs = {1 : (\"dir\", \"/\", 0, [])}\n",
    "current_dir_id = 1\n",
    "\n",
    "for cmd, content in list(serve(t[1:])):\n",
    "    \n",
    "    if cmd == 'ls':\n",
    "        for x in content:\n",
    "            ft, name = x.split(' ')\n",
    "            # print(current_dir_id, cmd, '->', content, ft, name)\n",
    "            if ft == 'dir':\n",
    "                dir_cnt += 1\n",
    "                fs[dir_cnt] = (\"dir\", name, current_dir_id, [])\n",
    "                fs[current_dir_id][3].append(('dir', dir_cnt, name)) \n",
    "            else:                  \n",
    "                fs[current_dir_id][3].append(('file', int(ft), name)) \n",
    "    elif cmd == 'cd ..':                \n",
    "        current_dir_id = fs[current_dir_id][2]\n",
    "    elif cmd.startswith('cd '): \n",
    "        name = cmd[3:]\n",
    "        current_dir_id = [x[1] for x in fs[current_dir_id][3] if x[0] == 'dir' and x[2] == name][0]\n"
   ]
  },
  {
   "cell_type": "code",
   "execution_count": 62,
   "id": "5c8f3a6c-fb4e-40e9-84b4-b2b52b13542a",
   "metadata": {},
   "outputs": [
    {
     "data": {
      "text/plain": [
       "{1: ('dir',\n",
       "  '/',\n",
       "  0,\n",
       "  [('dir', 2, 'a'),\n",
       "   ('file', 14848514, 'b.txt'),\n",
       "   ('file', 8504156, 'c.dat'),\n",
       "   ('dir', 3, 'd')]),\n",
       " 2: ('dir',\n",
       "  'a',\n",
       "  1,\n",
       "  [('dir', 4, 'e'),\n",
       "   ('file', 29116, 'f'),\n",
       "   ('file', 2557, 'g'),\n",
       "   ('file', 62596, 'h.lst')]),\n",
       " 3: ('dir',\n",
       "  'd',\n",
       "  1,\n",
       "  [('file', 4060174, 'j'),\n",
       "   ('file', 8033020, 'd.log'),\n",
       "   ('file', 5626152, 'd.ext'),\n",
       "   ('file', 7214296, 'k')]),\n",
       " 4: ('dir', 'e', 2, [('file', 584, 'i')])}"
      ]
     },
     "execution_count": 62,
     "metadata": {},
     "output_type": "execute_result"
    }
   ],
   "source": [
    "fs"
   ]
  },
  {
   "cell_type": "code",
   "execution_count": 45,
   "id": "db7dda33-6b02-4e46-84da-ea3ea389459d",
   "metadata": {},
   "outputs": [],
   "source": [
    "def get_total_dir_size(id):\n",
    "    total = 0\n",
    "    for item in fs[id][3]:\n",
    "        if item[0] == 'file':\n",
    "            total += item[1]\n",
    "        elif item[0] == 'dir':     \n",
    "            total += get_total_dir_size(item[1])\n",
    "        else:\n",
    "            raise RuntimeError(str(item))            \n",
    "            \n",
    "    \n",
    "    return total\n",
    "\n"
   ]
  },
  {
   "cell_type": "code",
   "execution_count": 57,
   "id": "b84ae39e-228d-45e0-8600-b8881d8025b5",
   "metadata": {},
   "outputs": [
    {
     "data": {
      "text/plain": [
       "1845346"
      ]
     },
     "execution_count": 57,
     "metadata": {},
     "output_type": "execute_result"
    }
   ],
   "source": [
    "sum([v for v in [get_total_dir_size(k) for k in fs ] if v <= 100_000])"
   ]
  },
  {
   "cell_type": "code",
   "execution_count": 58,
   "id": "a4708224-f22f-4953-9c44-dfa89abae55c",
   "metadata": {},
   "outputs": [],
   "source": [
    "# part 2"
   ]
  },
  {
   "cell_type": "code",
   "execution_count": 71,
   "id": "f2931faa-d5cd-4a9b-b28c-5eb514ea4c2d",
   "metadata": {},
   "outputs": [],
   "source": [
    "used_space = get_total_dir_size(1) "
   ]
  },
  {
   "cell_type": "code",
   "execution_count": 73,
   "id": "c4be1c87-fd5c-4bc2-8a62-9bd51419330e",
   "metadata": {},
   "outputs": [],
   "source": [
    "free_space = 70_000_000 - used_space"
   ]
  },
  {
   "cell_type": "code",
   "execution_count": 75,
   "id": "d6430e41-fa5f-4003-ac85-696f9ea06b63",
   "metadata": {},
   "outputs": [],
   "source": [
    "required_space = 30000000 - free_space"
   ]
  },
  {
   "cell_type": "code",
   "execution_count": 76,
   "id": "6ea405cd-77fd-4ee2-b153-9a66620aa9fb",
   "metadata": {},
   "outputs": [
    {
     "data": {
      "text/plain": [
       "8381165"
      ]
     },
     "execution_count": 76,
     "metadata": {},
     "output_type": "execute_result"
    }
   ],
   "source": [
    "required_space"
   ]
  },
  {
   "cell_type": "code",
   "execution_count": null,
   "id": "55c25c6e-b4d1-49fc-b0e3-caa16ed4f2e0",
   "metadata": {},
   "outputs": [],
   "source": [
    "[v for v in [get_total_dir_size(k) for k in fs ] if v <= 100_000]"
   ]
  }
 ],
 "metadata": {
  "kernelspec": {
   "display_name": "Python 3",
   "language": "python",
   "name": "python3"
  },
  "language_info": {
   "codemirror_mode": {
    "name": "ipython",
    "version": 3
   },
   "file_extension": ".py",
   "mimetype": "text/x-python",
   "name": "python",
   "nbconvert_exporter": "python",
   "pygments_lexer": "ipython3",
   "version": "3.9.9"
  }
 },
 "nbformat": 4,
 "nbformat_minor": 5
}
