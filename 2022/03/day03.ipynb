{
 "cells": [
  {
   "cell_type": "code",
   "execution_count": 1,
   "id": "17f90c78-3cd7-4e41-8e35-9076373181dc",
   "metadata": {},
   "outputs": [],
   "source": [
    "from pathlib import Path"
   ]
  },
  {
   "cell_type": "code",
   "execution_count": 50,
   "id": "efdc5d3d-1630-4d20-8aa5-cc4e7f741789",
   "metadata": {},
   "outputs": [],
   "source": [
    "t = Path(\"day03.txt\").read_text().splitlines()"
   ]
  },
  {
   "cell_type": "code",
   "execution_count": 31,
   "id": "79b4e996-7f37-4066-95fc-f73621be7523",
   "metadata": {},
   "outputs": [],
   "source": [
    "t = \"\"\"vJrwpWtwJgWrhcsFMMfFFhFp\n",
    "jqHRNqRjqzjGDLGLrsFMfFZSrLrFZsSL\n",
    "PmmdzqPrVvPwwTWBwg\n",
    "wMqvLMZHhHMvwLHjbvcjnnSBnvTQFn\n",
    "ttgJtRGJQctTZtZT\n",
    "CrZsJsPPZsGzwwsLwLmpwMDw\"\"\".splitlines()"
   ]
  },
  {
   "cell_type": "code",
   "execution_count": 10,
   "id": "89c47955-4ba2-4a26-986b-e06ceeecd2e0",
   "metadata": {},
   "outputs": [],
   "source": [
    "def prio(item):\n",
    "    p = ord(item) - ord ('a') + 1\n",
    "    if p < 0:\n",
    "        p += 31 + 27\n",
    "    return p"
   ]
  },
  {
   "cell_type": "code",
   "execution_count": 13,
   "id": "72fd3569-9ee1-4db2-a605-0aba8a6a9eb8",
   "metadata": {},
   "outputs": [
    {
     "data": {
      "text/plain": [
       "26"
      ]
     },
     "execution_count": 13,
     "metadata": {},
     "output_type": "execute_result"
    }
   ],
   "source": [
    "prio('z')"
   ]
  },
  {
   "cell_type": "code",
   "execution_count": 20,
   "id": "e79c3825-17f5-4c0f-8949-f5a69b353d7f",
   "metadata": {},
   "outputs": [],
   "source": [
    "def find_double(r):\n",
    "    midpos = len(r) // 2\n",
    "    assert len(r[:midpos]) == len(r[midpos:])\n",
    "    result = set(r[:midpos]).intersection(set(r[midpos:]))\n",
    "    assert len(result) == 1\n",
    "    return result.pop()\n",
    "    "
   ]
  },
  {
   "cell_type": "code",
   "execution_count": 21,
   "id": "3ae7c8de-104b-40b9-9d77-345ebb16b57f",
   "metadata": {},
   "outputs": [
    {
     "data": {
      "text/plain": [
       "'p'"
      ]
     },
     "execution_count": 21,
     "metadata": {},
     "output_type": "execute_result"
    }
   ],
   "source": [
    "find_double('vJrwpWtwJgWrhcsFMMfFFhFp')"
   ]
  },
  {
   "cell_type": "code",
   "execution_count": 28,
   "id": "a2f88855-a667-42d5-b62d-79bca2c1a414",
   "metadata": {},
   "outputs": [
    {
     "data": {
      "text/plain": [
       "7795"
      ]
     },
     "execution_count": 28,
     "metadata": {},
     "output_type": "execute_result"
    }
   ],
   "source": [
    "sum([prio(find_double(rs)) for rs in t])    "
   ]
  },
  {
   "cell_type": "code",
   "execution_count": 29,
   "id": "4847d0a4-0b5e-4bf3-9340-8db1127c31da",
   "metadata": {},
   "outputs": [],
   "source": [
    "# part 2"
   ]
  },
  {
   "cell_type": "code",
   "execution_count": 37,
   "id": "742f8701-6a91-45b0-b62d-ae7b1efc6e91",
   "metadata": {},
   "outputs": [],
   "source": [
    "def find_triple(rl):\n",
    "    assert len(rl) == 3\n",
    "    result = set(rl[0]).intersection(set(rl[1])).intersection(set(rl[2]))\n",
    "    return result.pop()\n",
    "    "
   ]
  },
  {
   "cell_type": "code",
   "execution_count": 39,
   "id": "2fc1fc70-b8f1-4387-90ae-da48580bd5c8",
   "metadata": {},
   "outputs": [
    {
     "data": {
      "text/plain": [
       "'Z'"
      ]
     },
     "execution_count": 39,
     "metadata": {},
     "output_type": "execute_result"
    }
   ],
   "source": [
    "find_triple(t[3:6])"
   ]
  },
  {
   "cell_type": "code",
   "execution_count": 51,
   "id": "84c25733-ff3f-48b8-8b98-36ab107a1f24",
   "metadata": {},
   "outputs": [
    {
     "data": {
      "text/plain": [
       "2703"
      ]
     },
     "execution_count": 51,
     "metadata": {},
     "output_type": "execute_result"
    }
   ],
   "source": [
    "sum([prio(find_triple(t[c: c+3])) for c in range(0, len(t), 3)])  \n",
    "    "
   ]
  },
  {
   "cell_type": "code",
   "execution_count": 43,
   "id": "2c4de5ac-1f11-41a8-9143-6652f5b24139",
   "metadata": {},
   "outputs": [
    {
     "data": {
      "text/plain": [
       "\u001b[1;31mInit signature:\u001b[0m \u001b[0mrange\u001b[0m\u001b[1;33m(\u001b[0m\u001b[0mself\u001b[0m\u001b[1;33m,\u001b[0m \u001b[1;33m/\u001b[0m\u001b[1;33m,\u001b[0m \u001b[1;33m*\u001b[0m\u001b[0margs\u001b[0m\u001b[1;33m,\u001b[0m \u001b[1;33m**\u001b[0m\u001b[0mkwargs\u001b[0m\u001b[1;33m)\u001b[0m\u001b[1;33m\u001b[0m\u001b[1;33m\u001b[0m\u001b[0m\n",
       "\u001b[1;31mDocstring:\u001b[0m     \n",
       "range(stop) -> range object\n",
       "range(start, stop[, step]) -> range object\n",
       "\n",
       "Return an object that produces a sequence of integers from start (inclusive)\n",
       "to stop (exclusive) by step.  range(i, j) produces i, i+1, i+2, ..., j-1.\n",
       "start defaults to 0, and stop is omitted!  range(4) produces 0, 1, 2, 3.\n",
       "These are exactly the valid indices for a list of 4 elements.\n",
       "When step is given, it specifies the increment (or decrement).\n",
       "\u001b[1;31mType:\u001b[0m           type\n",
       "\u001b[1;31mSubclasses:\u001b[0m     \n"
      ]
     },
     "metadata": {},
     "output_type": "display_data"
    }
   ],
   "source": [
    "range?"
   ]
  },
  {
   "cell_type": "code",
   "execution_count": null,
   "id": "d5cef3d0-9898-45d0-9163-bcdf5864b767",
   "metadata": {},
   "outputs": [],
   "source": []
  }
 ],
 "metadata": {
  "kernelspec": {
   "display_name": "Python 3",
   "language": "python",
   "name": "python3"
  },
  "language_info": {
   "codemirror_mode": {
    "name": "ipython",
    "version": 3
   },
   "file_extension": ".py",
   "mimetype": "text/x-python",
   "name": "python",
   "nbconvert_exporter": "python",
   "pygments_lexer": "ipython3",
   "version": "3.9.9"
  }
 },
 "nbformat": 4,
 "nbformat_minor": 5
}
