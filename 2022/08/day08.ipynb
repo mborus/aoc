{
 "cells": [
  {
   "cell_type": "code",
   "execution_count": 1,
   "id": "2f0e1476-f4d8-4196-99f7-feba01eb2def",
   "metadata": {},
   "outputs": [],
   "source": [
    "from pathlib import Path"
   ]
  },
  {
   "cell_type": "code",
   "execution_count": 120,
   "id": "89730830-9867-4a48-8915-2e947e60c1b5",
   "metadata": {},
   "outputs": [],
   "source": [
    "t = Path('day08.txt').read_text().splitlines()"
   ]
  },
  {
   "cell_type": "code",
   "execution_count": 119,
   "id": "4ed06634-2dbd-4465-9ba5-4a4ea25128db",
   "metadata": {},
   "outputs": [],
   "source": [
    "t = \"\"\"30373\n",
    "25512\n",
    "65332\n",
    "33549\n",
    "35390\"\"\".splitlines()"
   ]
  },
  {
   "cell_type": "code",
   "execution_count": 121,
   "id": "47c4abd5-af4d-4c0b-ba47-8795e0da2f4a",
   "metadata": {},
   "outputs": [
    {
     "data": {
      "text/plain": [
       "(99, 99)"
      ]
     },
     "execution_count": 121,
     "metadata": {},
     "output_type": "execute_result"
    }
   ],
   "source": [
    "tg = [[int(x) for x in t2] for t2 in t]\n",
    "\n",
    "tv = [[False for x in t2] for t2 in t]\n",
    "\n",
    "lenx = len(tg[0])\n",
    "leny = len(tg)\n",
    "lenx, leny"
   ]
  },
  {
   "cell_type": "code",
   "execution_count": 9,
   "id": "0061fef2-5f6f-4014-b4b0-541074a93c8c",
   "metadata": {
    "collapsed": true,
    "jupyter": {
     "outputs_hidden": true
    },
    "tags": []
   },
   "outputs": [
    {
     "data": {
      "text/plain": [
       "[[False, False, False, False, False],\n",
       " [False, False, False, False, False],\n",
       " [False, False, False, False, False],\n",
       " [False, False, False, False, False],\n",
       " [False, False, False, False, False]]"
      ]
     },
     "execution_count": 9,
     "metadata": {},
     "output_type": "execute_result"
    }
   ],
   "source": [
    "tv"
   ]
  },
  {
   "cell_type": "code",
   "execution_count": 20,
   "id": "6fdef5ef-47ae-41ab-96c6-c2f7d4a7e009",
   "metadata": {
    "tags": []
   },
   "outputs": [
    {
     "data": {
      "text/plain": [
       "[[3, 0, 3, 7, 3],\n",
       " [2, 5, 5, 1, 2],\n",
       " [6, 5, 3, 3, 2],\n",
       " [3, 3, 5, 4, 9],\n",
       " [3, 5, 3, 9, 0]]"
      ]
     },
     "execution_count": 20,
     "metadata": {},
     "output_type": "execute_result"
    }
   ],
   "source": [
    "tg"
   ]
  },
  {
   "cell_type": "code",
   "execution_count": 51,
   "id": "b2977239-248c-43a3-bf2d-03c968f15e1b",
   "metadata": {},
   "outputs": [],
   "source": [
    "def mark_viz_y(y, direction=1):\n",
    "    viz = -1\n",
    "    for x in range(lenx)[::direction]:\n",
    "        th = tg[y][x]\n",
    "        if th > viz:\n",
    "            tv[y][x] = True\n",
    "            viz = th    \n",
    "            \n",
    "def mark_viz_x(x, direction=1):\n",
    "    viz = -1\n",
    "    for y in range(lenx)[::direction]:\n",
    "        th = tg[y][x]\n",
    "        if th > viz:\n",
    "            tv[y][x] = True\n",
    "            viz = th    "
   ]
  },
  {
   "cell_type": "code",
   "execution_count": 52,
   "id": "56f36b96-37ba-40f5-bcbb-57f36131e3c8",
   "metadata": {},
   "outputs": [],
   "source": [
    "for x in range(lenx):\n",
    "    mark_viz_x(x)\n",
    "    mark_viz_x(x, direction= -1)\n",
    "    \n",
    "for y in range(leny):\n",
    "    mark_viz_y(y)\n",
    "    mark_viz_y(y, direction= -1)"
   ]
  },
  {
   "cell_type": "code",
   "execution_count": 35,
   "id": "94bcecde-7b92-4053-977b-c0582c4d5bc9",
   "metadata": {},
   "outputs": [
    {
     "data": {
      "text/plain": [
       "[[True, True, True, True, True],\n",
       " [True, True, True, False, True],\n",
       " [True, True, False, True, True],\n",
       " [True, False, True, False, True],\n",
       " [True, True, True, True, True]]"
      ]
     },
     "execution_count": 35,
     "metadata": {},
     "output_type": "execute_result"
    }
   ],
   "source": [
    "tv"
   ]
  },
  {
   "cell_type": "code",
   "execution_count": 53,
   "id": "597da665-e67f-4a74-9d2d-141e04812cec",
   "metadata": {},
   "outputs": [
    {
     "data": {
      "text/plain": [
       "1787"
      ]
     },
     "execution_count": 53,
     "metadata": {},
     "output_type": "execute_result"
    }
   ],
   "source": [
    "sum([sum(t2) for t2 in tv])"
   ]
  },
  {
   "cell_type": "code",
   "execution_count": 54,
   "id": "2308b14d-a212-4717-abee-6616d834b0c6",
   "metadata": {},
   "outputs": [],
   "source": [
    "# part 2"
   ]
  },
  {
   "cell_type": "code",
   "execution_count": 122,
   "id": "76012e5f-907a-4f5e-bb97-b7b95282cfee",
   "metadata": {},
   "outputs": [],
   "source": [
    "ts = [[-1 for x in t2] for t2 in t]"
   ]
  },
  {
   "cell_type": "code",
   "execution_count": 123,
   "id": "7350e5f6-18d9-45d6-850f-a3309abc2cf0",
   "metadata": {},
   "outputs": [
    {
     "name": "stdout",
     "output_type": "stream",
     "text": [
      "right\n",
      "3 2 1\n",
      "3 3 1\n",
      "left\n",
      "3 2 1\n",
      "3 1 2\n",
      "up\n",
      "3 2 1\n",
      "2 2 1\n",
      "down\n",
      "3 2 1\n",
      "4 2 2\n",
      "Result: 1  -  1 1 1 1 1\n"
     ]
    },
    {
     "data": {
      "text/plain": [
       "1"
      ]
     },
     "execution_count": 123,
     "metadata": {},
     "output_type": "execute_result"
    }
   ],
   "source": [
    "def score_tree(y, x, verbose=False):\n",
    "    height = tg[y][x]\n",
    "\n",
    "    if verbose:\n",
    "        print('right')\n",
    "        print(y ,x,  tg[y][x])    \n",
    "    x2 = x + 1\n",
    "    right_score = 0\n",
    "    if x2 < lenx:\n",
    "        while True:\n",
    "            if verbose:\n",
    "                print(y ,x2,  tg[y][x2])\n",
    "            right_score += 1\n",
    "            if tg[y][x2] >= height:\n",
    "                break\n",
    "            x2 += 1\n",
    "            if x2 == lenx:\n",
    "                break\n",
    "\n",
    "    if verbose:\n",
    "        print('left')\n",
    "        print(y ,x,  tg[y][x])    \n",
    "    x2 = x - 1\n",
    "    left_score = 0\n",
    "    if x > 0:\n",
    "        while True:\n",
    "            if verbose:\n",
    "                print(y ,x2,  tg[y][x2])\n",
    "            left_score += 1\n",
    "            if tg[y][x2] >= height:\n",
    "                break\n",
    "            x2 -= 1\n",
    "            if x2 < 0:\n",
    "                break\n",
    "    if verbose:            \n",
    "        print('up')\n",
    "        print(y ,x,  tg[y][x])    \n",
    "    y2 = y - 1\n",
    "    up_score = 0\n",
    "    if y > 0:\n",
    "        while True:\n",
    "            if verbose:\n",
    "                print(y2 ,x,  tg[y2][x])\n",
    "            up_score += 1\n",
    "            if tg[y2][x] >= height:\n",
    "                break\n",
    "            y2 -= 1\n",
    "            if y2 < 0:\n",
    "                break                \n",
    "    if verbose:\n",
    "        print('down')\n",
    "        print(y ,x,  tg[y][x])    \n",
    "    y2 = y + 1\n",
    "    down_score = 0\n",
    "    if y2 < leny:\n",
    "        while True:\n",
    "            if verbose:\n",
    "                print(y2 ,x,  tg[y2][x])\n",
    "            down_score += 1\n",
    "            if tg[y2][x] >= height:\n",
    "                break\n",
    "            y2 += 1\n",
    "            if y2 == leny:\n",
    "                break                \n",
    "\n",
    "    total =  left_score * right_score * up_score * down_score                \n",
    "    \n",
    "    if verbose:\n",
    "        print('Result:', total, ' - ', height, left_score, right_score, up_score, down_score)\n",
    "    return total\n",
    "\n",
    "score_tree(3, 2, verbose=True)"
   ]
  },
  {
   "cell_type": "code",
   "execution_count": 113,
   "id": "29c18365-4780-4a1f-98e9-578e8fa21350",
   "metadata": {},
   "outputs": [
    {
     "name": "stdout",
     "output_type": "stream",
     "text": [
      "right\n",
      "0 4 3\n",
      "left\n",
      "0 4 3\n",
      "0 3 7\n",
      "up\n",
      "0 4 3\n",
      "down\n",
      "0 4 3\n",
      "1 4 2\n",
      "2 4 2\n",
      "3 4 9\n",
      "Result: 0  -  3 1 0 0 3\n"
     ]
    },
    {
     "data": {
      "text/plain": [
       "0"
      ]
     },
     "execution_count": 113,
     "metadata": {},
     "output_type": "execute_result"
    }
   ],
   "source": [
    "score_tree(0, 4, verbose=True)"
   ]
  },
  {
   "cell_type": "code",
   "execution_count": 124,
   "id": "1b494fad-eab1-46d9-b25f-88b6ba215fd5",
   "metadata": {},
   "outputs": [],
   "source": [
    "for y in range(leny):\n",
    "    for x in range(lenx):\n",
    "        ts[y][x] = score_tree(y, x, verbose=False)"
   ]
  },
  {
   "cell_type": "code",
   "execution_count": 115,
   "id": "e0c585aa-79bf-4379-bf93-318e4e2d14d5",
   "metadata": {},
   "outputs": [
    {
     "data": {
      "text/plain": [
       "[[0, 0, 0, 0, 0],\n",
       " [0, 1, 4, 1, 0],\n",
       " [0, 6, 1, 2, 0],\n",
       " [0, 1, 8, 3, 0],\n",
       " [0, 0, 0, 0, 0]]"
      ]
     },
     "execution_count": 115,
     "metadata": {},
     "output_type": "execute_result"
    }
   ],
   "source": [
    "ts"
   ]
  },
  {
   "cell_type": "code",
   "execution_count": 125,
   "id": "b02233ef-617e-4fb2-8a7f-c851948c50a0",
   "metadata": {},
   "outputs": [
    {
     "data": {
      "text/plain": [
       "440640"
      ]
     },
     "execution_count": 125,
     "metadata": {},
     "output_type": "execute_result"
    }
   ],
   "source": [
    "max([max(t2) for t2 in ts])"
   ]
  },
  {
   "cell_type": "code",
   "execution_count": null,
   "id": "f0c40809-e29a-4184-98ed-d1ba30faa774",
   "metadata": {},
   "outputs": [],
   "source": []
  }
 ],
 "metadata": {
  "kernelspec": {
   "display_name": "Python 3",
   "language": "python",
   "name": "python3"
  },
  "language_info": {
   "codemirror_mode": {
    "name": "ipython",
    "version": 3
   },
   "file_extension": ".py",
   "mimetype": "text/x-python",
   "name": "python",
   "nbconvert_exporter": "python",
   "pygments_lexer": "ipython3",
   "version": "3.9.9"
  }
 },
 "nbformat": 4,
 "nbformat_minor": 5
}
