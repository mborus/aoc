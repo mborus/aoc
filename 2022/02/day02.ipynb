{
 "cells": [
  {
   "cell_type": "code",
   "execution_count": 1,
   "id": "9d1c455e-4341-43b0-a45f-5a43bd36bd14",
   "metadata": {},
   "outputs": [],
   "source": [
    "from pathlib import Path"
   ]
  },
  {
   "cell_type": "code",
   "execution_count": 42,
   "id": "659669e6-b3ee-4850-acc7-ded4942cb461",
   "metadata": {},
   "outputs": [],
   "source": [
    "t = Path('day02.txt').read_text().splitlines()"
   ]
  },
  {
   "cell_type": "code",
   "execution_count": 32,
   "id": "d944703f-8809-4710-99ba-933d135f89c3",
   "metadata": {},
   "outputs": [],
   "source": [
    "t = \"\"\"A Y\n",
    "B X\n",
    "C Z\"\"\".splitlines()"
   ]
  },
  {
   "cell_type": "markdown",
   "id": "9aa09148-aa92-4aea-a616-a22d008e2c94",
   "metadata": {},
   "source": [
    "moves \n",
    "A for Rock, B for Paper, and C for Scissors.\n",
    "X for Rock, Y for Paper, and Z for Scissors.\n",
    "   \n",
    "1 for Rock, 2 for Paper, and 3 for Scissors) "
   ]
  },
  {
   "cell_type": "code",
   "execution_count": 22,
   "id": "bb440b49-6145-44bf-8495-f14df69729c6",
   "metadata": {},
   "outputs": [],
   "source": [
    "MY_SCORES = {'Rock': 1, 'Paper': 2, 'Scissors': 3}\n",
    "OPPONENT_MOVES = {'A': 'Rock', 'B': 'Paper', 'C': 'Scissors'}\n",
    "MY_MOVES = {'X': 'Rock', 'Y': 'Paper', 'Z': 'Scissors'}\n",
    "\n",
    "WINNING_COMBINATIONS = [\n",
    "    ('Rock','Scissors'),\n",
    "    ('Scissors', 'Paper'),\n",
    "    ('Paper', 'Rock')\n",
    "]"
   ]
  },
  {
   "cell_type": "code",
   "execution_count": 8,
   "id": "3d5e8512-14b3-4b4b-b5e7-fe4e12e315a7",
   "metadata": {},
   "outputs": [
    {
     "data": {
      "text/plain": [
       "['A Y', 'B X', 'C Z']"
      ]
     },
     "execution_count": 8,
     "metadata": {},
     "output_type": "execute_result"
    }
   ],
   "source": [
    "t"
   ]
  },
  {
   "cell_type": "code",
   "execution_count": 27,
   "id": "63db075b-6fe2-4e29-b03b-ac39f399f39a",
   "metadata": {},
   "outputs": [],
   "source": [
    "def score_match(move):\n",
    "    my_move = MY_MOVES[move[2]]\n",
    "    opponent_move = OPPONENT_MOVES[move[0]]\n",
    "    basis_score = MY_SCORES[my_move]\n",
    "    if my_move == opponent_move:\n",
    "        match_score = 3\n",
    "    elif (my_move, opponent_move) in WINNING_COMBINATIONS:\n",
    "        match_score = 6\n",
    "    else:\n",
    "        match_score = 0\n",
    "    return match_score + basis_score\n"
   ]
  },
  {
   "cell_type": "code",
   "execution_count": 31,
   "id": "8d2aa239-472f-42e0-a6ab-c7385479eae1",
   "metadata": {},
   "outputs": [
    {
     "data": {
      "text/plain": [
       "8392"
      ]
     },
     "execution_count": 31,
     "metadata": {},
     "output_type": "execute_result"
    }
   ],
   "source": [
    "sum([score_match(t2) for t2 in t])"
   ]
  },
  {
   "cell_type": "code",
   "execution_count": 40,
   "id": "77fb9e30-4fe4-42b7-88bf-0ab74fe4a77f",
   "metadata": {},
   "outputs": [],
   "source": [
    "def score_match2(move):\n",
    "    my_strategy = move[2]\n",
    "    opponent_move = OPPONENT_MOVES[move[0]]\n",
    "    # X means you need to lose, Y means you need to end the round in a draw, and Z means you need to win.\n",
    "    if my_strategy == \"Y\":\n",
    "        my_move = opponent_move\n",
    "    elif my_strategy == \"X\":   \n",
    "        my_move = [t2 for t2 in WINNING_COMBINATIONS if t2[0] == opponent_move][0][1]\n",
    "    elif my_strategy == \"Z\":   \n",
    "        my_move = [t2 for t2 in WINNING_COMBINATIONS if t2[1] == opponent_move][0][0]\n",
    "    else:\n",
    "        raise NotImplementedError\n",
    "    \n",
    "    basis_score = MY_SCORES[my_move]\n",
    "    if my_move == opponent_move:\n",
    "        match_score = 3\n",
    "    elif (my_move, opponent_move) in WINNING_COMBINATIONS:\n",
    "        match_score = 6\n",
    "    else:\n",
    "        match_score = 0\n",
    "    return match_score + basis_score"
   ]
  },
  {
   "cell_type": "code",
   "execution_count": 43,
   "id": "f7dd5118-e0f2-410c-8481-c0f975dca4bf",
   "metadata": {},
   "outputs": [
    {
     "data": {
      "text/plain": [
       "10116"
      ]
     },
     "execution_count": 43,
     "metadata": {},
     "output_type": "execute_result"
    }
   ],
   "source": [
    "sum([score_match2(t2) for t2 in t])"
   ]
  },
  {
   "cell_type": "code",
   "execution_count": null,
   "id": "5849e292-aab9-49d2-8d9f-ed3f737ca07a",
   "metadata": {},
   "outputs": [],
   "source": []
  }
 ],
 "metadata": {
  "kernelspec": {
   "display_name": "Python 3",
   "language": "python",
   "name": "python3"
  },
  "language_info": {
   "codemirror_mode": {
    "name": "ipython",
    "version": 3
   },
   "file_extension": ".py",
   "mimetype": "text/x-python",
   "name": "python",
   "nbconvert_exporter": "python",
   "pygments_lexer": "ipython3",
   "version": "3.9.9"
  }
 },
 "nbformat": 4,
 "nbformat_minor": 5
}
