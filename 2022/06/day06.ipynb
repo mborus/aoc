{
 "cells": [
  {
   "cell_type": "code",
   "execution_count": 1,
   "id": "e06ff128-044e-4692-aeef-651f35e0dadc",
   "metadata": {},
   "outputs": [],
   "source": [
    "from pathlib import Path\n"
   ]
  },
  {
   "cell_type": "code",
   "execution_count": 22,
   "id": "c37b8cc9-cff0-4d95-a672-14795391d526",
   "metadata": {},
   "outputs": [],
   "source": [
    "t = Path('day06.txt').read_text()"
   ]
  },
  {
   "cell_type": "code",
   "execution_count": 20,
   "id": "42cdb802-eb26-4eb0-bb76-9b31929e36aa",
   "metadata": {},
   "outputs": [],
   "source": [
    "t = \"\"\"mjqjpqmgbljsphdztnvjfqwrcgsmlb\"\"\""
   ]
  },
  {
   "cell_type": "code",
   "execution_count": 23,
   "id": "6e88c9af-d98f-44ab-86f7-2a903483f9a9",
   "metadata": {},
   "outputs": [
    {
     "data": {
      "text/plain": [
       "2851"
      ]
     },
     "execution_count": 23,
     "metadata": {},
     "output_type": "execute_result"
    }
   ],
   "source": [
    "# part 2 \n",
    "for i in range(len(t)-14):\n",
    "    if len(set(t[i: i+14])) == 14:\n",
    "        break\n",
    "marker = i + 14\n",
    "marker"
   ]
  },
  {
   "cell_type": "code",
   "execution_count": 19,
   "id": "fee12ccd-732b-45f8-81c0-18749e05a069",
   "metadata": {},
   "outputs": [],
   "source": [
    "# part 1 (since I changed the cell above to quicky solve the task)\n",
    "# 1794 "
   ]
  },
  {
   "cell_type": "code",
   "execution_count": null,
   "id": "d1534a52-2a39-47fc-9381-f6a1c697e96a",
   "metadata": {},
   "outputs": [],
   "source": [
    "for i in range(len(t)-4):\n",
    "    if len(set(t[i: i+4])) == 4:\n",
    "        break\n",
    "marker = i + 4\n",
    "marker"
   ]
  }
 ],
 "metadata": {
  "kernelspec": {
   "display_name": "Python 3",
   "language": "python",
   "name": "python3"
  },
  "language_info": {
   "codemirror_mode": {
    "name": "ipython",
    "version": 3
   },
   "file_extension": ".py",
   "mimetype": "text/x-python",
   "name": "python",
   "nbconvert_exporter": "python",
   "pygments_lexer": "ipython3",
   "version": "3.9.9"
  }
 },
 "nbformat": 4,
 "nbformat_minor": 5
}
